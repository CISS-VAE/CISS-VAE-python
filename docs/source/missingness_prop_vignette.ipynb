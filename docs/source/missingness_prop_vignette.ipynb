{
 "cells": [
  {
   "cell_type": "markdown",
   "metadata": {},
   "source": [
    "# Using `create_missingness_prop_matrix`: A Complete Guide\n",
    "\n",
    "The `create_missingness_prop_matrix()` function creates a matrix showing the proportion of missing values for each sample–feature combination across multiple timepoints. This matrix can then be used for **sample clustering** with `cluster_on_missing_prop()` or as input to the complete CISS-VAE pipeline via `run_cissvae()`.\n",
    "\n",
    "## Overview\n",
    "\n",
    "The function returns a **n_samples × n_features** matrix where each cell contains a value between 0 and 1 representing:\n",
    "\n",
    "```\n",
    "proportion = (number of missing timepoints) / (total timepoints)\n",
    "```\n",
    "\n",
    "- **0.0** = no missing values for that sample-feature combination\n",
    "- **1.0** = all timepoints missing for that sample-feature combination\n",
    "\n",
    "## Data Format Support\n",
    "\n",
    "The function supports two input formats:\n",
    "\n",
    "### 1. **Wide Format** (default)\n",
    "Columns represent feature×timepoint combinations, rows represent samples.\n",
    "\n",
    "### 2. **Long Format** \n",
    "Each row represents one sample/feature/timepoint observation.\n",
    "\n",
    "---\n",
    "\n",
    "## Wide Format Examples\n",
    "\n",
    "### Example 1: Basic Wide Format with Regex Parsing"
   ]
  },
  {
   "cell_type": "code",
   "execution_count": 1,
   "metadata": {
    "vscode": {
     "languageId": "python"
    }
   },
   "outputs": [
    {
     "name": "stdout",
     "output_type": "stream",
     "text": [
      "Data: \n",
      "  sample_id  glucose_t0  glucose_t1  glucose_t2  insulin_t0  insulin_t1  \\\n",
      "0    mouse1       100.0       110.0         NaN         5.2         NaN   \n",
      "1    mouse2        95.0         NaN       100.0         4.8         NaN   \n",
      "2    mouse3         NaN       105.0       115.0         5.0         5.5   \n",
      "\n",
      "   insulin_t2  \n",
      "0         6.0  \n",
      "1         5.1  \n",
      "2         NaN  \n",
      "\n",
      "\n",
      "Output: \n",
      "         glucose   insulin\n",
      "mouse1  0.333333  0.333333\n",
      "mouse2  0.333333  0.333333\n",
      "mouse3  0.333333  0.333333\n"
     ]
    }
   ],
   "source": [
    "import pandas as pd\n",
    "import numpy as np\n",
    "from ciss_vae.utils.matrix import create_missingness_prop_matrix\n",
    "\n",
    "# Create sample wide-format data\n",
    "# Columns follow pattern: feature_timepoint\n",
    "data_wide = pd.DataFrame({\n",
    "    'sample_id': ['mouse1', 'mouse2', 'mouse3'],\n",
    "    'glucose_t0': [100, 95, np.nan],\n",
    "    'glucose_t1': [110, np.nan, 105],\n",
    "    'glucose_t2': [np.nan, 100, 115],\n",
    "    'insulin_t0': [5.2, 4.8, 5.0],\n",
    "    'insulin_t1': [np.nan, np.nan, 5.5],\n",
    "    'insulin_t2': [6.0, 5.1, np.nan]\n",
    "})\n",
    "\n",
    "print(f\"Data: \\n{data_wide}\\n\\n\")\n",
    "\n",
    "# Basic usage - regex automatically extracts features\n",
    "prop_matrix = create_missingness_prop_matrix(\n",
    "    data_wide,\n",
    "    index_col=\"sample_id\",\n",
    "    repeat_feature_names = [\"glucose\", \"insulin\"],\n",
    "    timepoint_prefix = \"t\"\n",
    ")\n",
    "\n",
    "print(f\"Output: \\n{prop_matrix}\")"
   ]
  },
  {
   "cell_type": "markdown",
   "metadata": {},
   "source": [
    "### Example 2: Custom Regex Pattern"
   ]
  },
  {
   "cell_type": "code",
   "execution_count": 2,
   "metadata": {
    "vscode": {
     "languageId": "python"
    }
   },
   "outputs": [
    {
     "name": "stdout",
     "output_type": "stream",
     "text": [
      "Output: \n",
      "   weight  height\n",
      "A     0.0     0.0\n",
      "B     0.5     0.5\n",
      "C     0.5     0.5\n"
     ]
    }
   ],
   "source": [
    "# Data with different naming convention: feature.timepoint\n",
    "data_custom = pd.DataFrame({\n",
    "    'ID': ['A', 'B', 'C'],\n",
    "    'weight_day1': [25.0, np.nan, 27.0],\n",
    "    'weight_day7': [24.5, 26.0, np.nan],\n",
    "    'height_day1': [10.0, 9.5, np.nan],\n",
    "    'height_day7': [10.2, np.nan, 9.8]\n",
    "})\n",
    "\n",
    "prop_matrix = create_missingness_prop_matrix(\n",
    "    data_custom,\n",
    "    index_col=\"ID\",\n",
    "    repeat_feature_names = [\"weight\", \"height\"],\n",
    "    timepoint_prefix = \"day\"\n",
    ")\n",
    "\n",
    "print(f\"Output: \\n{prop_matrix}\")"
   ]
  },
  {
   "cell_type": "markdown",
   "metadata": {},
   "source": [
    "### Example 3: Explicit Column Mapping"
   ]
  },
  {
   "cell_type": "code",
   "execution_count": 3,
   "metadata": {
    "vscode": {
     "languageId": "python"
    }
   },
   "outputs": [
    {
     "name": "stdout",
     "output_type": "stream",
     "text": [
      "  subject  baseline_glucose  followup_glucose  glucose_final  insulin_start  insulin_end\n",
      "0      S1              90.0                95            NaN            4.0          4.5\n",
      "1      S2               NaN                88           92.0            3.8          NaN\n",
      "Output: \n",
      "     glucose  insulin\n",
      "S1  0.333333      0.0\n",
      "S2  0.333333      0.5\n"
     ]
    }
   ],
   "source": [
    "data_mixed = pd.DataFrame({\n",
    "    'subject': ['S1', 'S2'],\n",
    "    'baseline_glucose': [90, np.nan],\n",
    "    'followup_glucose': [95, 88],\n",
    "    'glucose_final': [np.nan, 92],\n",
    "    'insulin_start': [4.0, 3.8],\n",
    "    'insulin_end': [4.5, np.nan]\n",
    "})\n",
    "\n",
    "# Explicitly map columns to features\n",
    "column_mapping = {\n",
    "    \"glucose\": [\"baseline_glucose\", \"followup_glucose\", \"glucose_final\" ],\n",
    "    \"insulin\": [\"insulin_start\", \"insulin_end\"]\n",
    "}\n",
    "\n",
    "print(data_mixed)\n",
    "\n",
    "prop_matrix = create_missingness_prop_matrix(\n",
    "    data = data_mixed,\n",
    "    index_col=\"subject\",\n",
    "    column_mapping=column_mapping\n",
    ")\n",
    "\n",
    "print(f\"Output: \\n{prop_matrix}\")"
   ]
  },
  {
   "cell_type": "markdown",
   "metadata": {},
   "source": [
    "# Integration with sample clustering "
   ]
  },
  {
   "cell_type": "code",
   "execution_count": 4,
   "metadata": {
    "vscode": {
     "languageId": "python"
    }
   },
   "outputs": [
    {
     "name": "stdout",
     "output_type": "stream",
     "text": [
      "  sample_id  glucose_t0  glucose_t1  glucose_t2  insulin_t0  insulin_t1  insulin_t2\n",
      "0    mouse1       100.0       110.0         115         5.2         NaN         6.0\n",
      "1    mouse2        95.0         NaN         100         4.8         NaN         5.1\n",
      "2    mouse3         NaN       105.0         107         NaN         5.5         NaN\n",
      "3    mouse4       102.0       108.0         118         NaN         5.3         NaN\n",
      "4    mouse5        98.0         NaN         112         5.1         5.4         NaN\n",
      "        glucose_t0  glucose_t1  glucose_t2  insulin_t0  insulin_t1  insulin_t2\n",
      "mouse1         0.0         0.0         0.0         0.0         1.0         0.0\n",
      "mouse2         0.0         1.0         0.0         0.0         1.0         0.0\n",
      "mouse3         1.0         0.0         0.0         1.0         0.0         1.0\n",
      "mouse4         0.0         0.0         0.0         1.0         0.0         1.0\n",
      "mouse5         0.0         1.0         0.0         0.0         0.0         1.0\n",
      "Clusters: [0 1 0 0 1]\n",
      "Silhouette score: 0.17776416479646978\n"
     ]
    }
   ],
   "source": [
    "from ciss_vae.utils.clustering import cluster_on_missing_prop\n",
    "\n",
    "data_wide = pd.DataFrame({\n",
    "    'sample_id':  ['mouse1', 'mouse2', 'mouse3', 'mouse4', 'mouse5'],\n",
    "    'glucose_t0': [100,      95,       np.nan,   102,      98     ],\n",
    "    'glucose_t1': [110,      np.nan,   105,      108,      np.nan ],\n",
    "    'glucose_t2': [115,      100,      107,   118,   112    ],\n",
    "    'insulin_t0': [5.2,      4.8,      np.nan,      np.nan,   5.1    ],\n",
    "    'insulin_t1': [np.nan,   np.nan,   5.5,      5.3,      5.4    ],\n",
    "    'insulin_t2': [6.0,      5.1,      np.nan,   np.nan,      np.nan ],\n",
    "})\n",
    "\n",
    "print(data_wide)\n",
    "\n",
    "# Create missingness proportion matrix\n",
    "prop_matrix = create_missingness_prop_matrix(\n",
    "    data_wide, \n",
    "    index_col=\"sample_id\"\n",
    ")\n",
    "\n",
    "print(prop_matrix)\n",
    "\n",
    "# Cluster samples based on similar missingness patterns across features\n",
    "clusters, silhouette = cluster_on_missing_prop(\n",
    "    prop_matrix,\n",
    "    n_clusters=2,\n",
    "    metric=\"cosine\",\n",
    "    scale_features=True\n",
    ")\n",
    "\n",
    "print(\"Clusters:\", clusters)\n",
    "print(\"Silhouette score:\", silhouette)"
   ]
  },
  {
   "cell_type": "markdown",
   "metadata": {},
   "source": [
    "# Integration w/ CISS-VAE pipeline\n",
    "The proportion matrix can be used directly in the complete CISS-VAE pipeline via the `missingness_proportion_matrix` parameter:"
   ]
  },
  {
   "cell_type": "code",
   "execution_count": 5,
   "metadata": {
    "vscode": {
     "languageId": "python"
    }
   },
   "outputs": [
    {
     "name": "stdout",
     "output_type": "stream",
     "text": [
      "[Warning] 3 feature(s) had zero std after masking. Replaced with 1.0 to avoid div-by-zero. Features: ['glucose_t1', 'insulin_t1', 'insulin_t2']\n",
      "Cluster dataset:\n",
      " ClusterDataset(n_samples=5, n_features=6, n_clusters=2)\n",
      "  • Original missing: 10 / 30 (33.33%)\n",
      "  • Validation held-out: 10 (50.00% of non-missing)\n",
      "  • .data shape:     (5, 6)\n",
      "  • .masks shape:    (5, 6)\n",
      "  • .val_data shape: (5, 6)\n"
     ]
    },
    {
     "data": {
      "image/png": "[encoded data removed]",
      "text/plain": [
       "<Figure size 1600x800 with 1 Axes>"
      ]
     },
     "metadata": {},
     "output_type": "display_data"
    }
   ],
   "source": [
    "from ciss_vae.training.run_cissvae import run_cissvae\n",
    "from ciss_vae.utils.helpers import plot_vae_architecture\n",
    "\n",
    "prop_matrix = create_missingness_prop_matrix(\n",
    "    data_wide,\n",
    "    index_col=\"sample_id\"\n",
    ")\n",
    "\n",
    "imputed_data, model = run_cissvae(\n",
    "    data=data_wide.drop('sample_id', axis=1),\n",
    "    missingness_proportion_matrix=prop_matrix,  # Use custom matrix\n",
    "    n_clusters=2,\n",
    "    scale_features=True,  # Scale the proportion matrix features\n",
    "    verbose=False,\n",
    "    epochs = 50\n",
    ")\n",
    "\n",
    "plot_vae_architecture(model)"
   ]
  },
  {
   "cell_type": "markdown",
   "metadata": {},
   "source": [
    "# Full workflow\n"
   ]
  },
  {
   "cell_type": "code",
   "execution_count": 12,
   "metadata": {
    "vscode": {
     "languageId": "python"
    }
   },
   "outputs": [
    {
     "name": "stdout",
     "output_type": "stream",
     "text": [
      "Missingness Proportion Matrix: \n",
      "      glucose  hba1c\n",
      "P001     0.25   0.25\n",
      "P002     0.50   0.25\n",
      "P003     0.50   0.25\n",
      "P004     0.00   0.50\n",
      "P005     0.00   0.25\n",
      "Cluster dataset:\n",
      " ClusterDataset(n_samples=100, n_features=8, n_clusters=2)\n",
      "  • Original missing: 169 / 800 (21.12%)\n",
      "  • Validation held-out: 56 (8.87% of non-missing)\n",
      "  • .data shape:     (100, 8)\n",
      "  • .masks shape:    (100, 8)\n",
      "  • .val_data shape: (100, 8)\n",
      "\n",
      "Original Data: \n",
      "   glucose_baseline  glucose_month1  glucose_month3  glucose_month6  hba1c_baseline  hba1c_month1  hba1c_month3  hba1c_month6\n",
      "0         99.967142       92.156023             NaN       87.339202             NaN      5.859505      6.079557      5.634611\n",
      "1         93.617357             NaN       78.972177             NaN        6.819309      7.239745           NaN      5.757494\n",
      "2        101.476885             NaN             NaN       81.481639        6.469892           NaN      6.534880      5.492823\n",
      "3        110.230299      124.642030       86.824755       88.473987             NaN      7.962037           NaN      5.189670\n",
      "4         92.658466       99.508008       93.549904       79.395866        6.591382      6.825535           NaN      5.445506 \n",
      "\n",
      "Imputed Data:\n",
      "   glucose_baseline  glucose_month1  glucose_month3  glucose_month6  hba1c_baseline  hba1c_month1  hba1c_month3  hba1c_month6\n",
      "0         99.967140       92.156021       91.040680       87.339203        6.638026      5.859505      6.079557      5.634611\n",
      "1         93.617355       93.880074       78.972176       92.288696        6.819309      7.239745      6.510371      5.757494\n",
      "2        101.476883       94.809273       97.503601       81.481636        6.469892      6.370516      6.534880      5.492823\n",
      "3        110.230301      124.642029       86.824753       88.473984        5.975946      7.962037      7.977868      5.189670\n",
      "4         92.658463       99.508011       93.549904       79.395866        6.591382      6.825535      5.856393      5.445506\n"
     ]
    }
   ],
   "source": [
    "import pandas as pd\n",
    "import numpy as np\n",
    "from ciss_vae.utils.matrix import create_missingness_prop_matrix\n",
    "from ciss_vae.utils.clustering import cluster_on_missing_prop\n",
    "from ciss_vae.training.run_cissvae import run_cissvae\n",
    "\n",
    "# 1. Create longitudinal data with complex missingness patterns\n",
    "np.random.seed(42)\n",
    "data = pd.DataFrame({\n",
    "    'patient_id': [f'P{i:03d}' for i in range(1, 101)],\n",
    "    # Glucose measurements - some patients miss early timepoints\n",
    "    'glucose_baseline': np.random.normal(95, 10, 100),\n",
    "    'glucose_month1': np.where(np.random.random(100) < 0.3, np.nan, np.random.normal(92, 12, 100)),\n",
    "    'glucose_month3': np.where(np.random.random(100) < 0.2, np.nan, np.random.normal(90, 11, 100)),\n",
    "    'glucose_month6': np.where(np.random.random(100) < 0.1, np.nan, np.random.normal(88, 10, 100)),\n",
    "    # HbA1c - different missingness pattern\n",
    "    'hba1c_baseline': np.where(np.random.random(100) < 0.1, np.nan, np.random.normal(6.5, 0.8, 100)),\n",
    "    'hba1c_month1': np.where(np.random.random(100) < 0.4, np.nan, np.random.normal(6.3, 0.9, 100)),\n",
    "    'hba1c_month3': np.where(np.random.random(100) < 0.3, np.nan, np.random.normal(6.1, 0.8, 100)),\n",
    "    'hba1c_month6': np.where(np.random.random(100) < 0.2, np.nan, np.random.normal(5.9, 0.7, 100)),\n",
    "})\n",
    "\n",
    "# 2. Create missingness proportion matrix\n",
    "prop_matrix = create_missingness_prop_matrix(\n",
    "    data,\n",
    "    index_col = \"patient_id\",\n",
    "    repeat_feature_names = [\"glucose\", \"hba1c\"],\n",
    "    nonint_timepoint=True\n",
    ")\n",
    "\n",
    "print(f\"Missingness Proportion Matrix: \\n{prop_matrix.head()}\")\n",
    "\n",
    "# 3. Run complete CISS-VAE pipeline\n",
    "main_data = data.drop('patient_id', axis=1)\n",
    "\n",
    "imputed_data, model, history = run_cissvae(\n",
    "    data=main_data,\n",
    "    missingness_proportion_matrix=prop_matrix,\n",
    "    n_clusters=2,\n",
    "    scale_features=True,\n",
    "    epochs=100,\n",
    "    verbose=False,\n",
    "    return_history=True\n",
    ")\n",
    "\n",
    "print(f\"\\nOriginal Data: \\n{main_data.head()} \\n\\nImputed Data:\\n{imputed_data.head()}\")"
   ]
  },
  {
   "cell_type": "markdown",
   "metadata": {},
   "source": [
    "## Extra tips\n",
    "\n",
    "1. **Sample Clustering**: `cluster_on_missing_prop` clusters **samples (rows)** based on their missingness profiles across features. This groups subjects with similar patterns of missing data.\n",
    "2. **Data format**: Provide the input as a matrix or DataFrame with **rows = samples** and **columns = features**. The data must be in **wide** format.\n",
    "3. **Scaling**: Use `scale_features=True` if features differ greatly in their overall missingness rates. This standardizes the columns so no single feature dominates the clustering."
   ]
  }
 ],
 "metadata": {
  "language_info": {
   "name": "plaintext"
  }
 },
 "nbformat": 4,
 "nbformat_minor": 2
}
